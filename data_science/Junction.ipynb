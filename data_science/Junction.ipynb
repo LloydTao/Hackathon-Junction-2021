{
 "cells": [
  {
   "cell_type": "code",
   "execution_count": 1,
   "metadata": {
    "scrolled": true
   },
   "outputs": [
    {
     "name": "stderr",
     "output_type": "stream",
     "text": [
      "[nltk_data] Downloading package stopwords to\n",
      "[nltk_data]     C:\\Users\\keith\\AppData\\Roaming\\nltk_data...\n",
      "[nltk_data]   Package stopwords is already up-to-date!\n",
      "[nltk_data] Downloading package punkt to\n",
      "[nltk_data]     C:\\Users\\keith\\AppData\\Roaming\\nltk_data...\n",
      "[nltk_data]   Package punkt is already up-to-date!\n"
     ]
    }
   ],
   "source": [
    "import pandas as pd\n",
    "import nltk\n",
    "from nltk.corpus import stopwords\n",
    "nltk.download('stopwords')\n",
    "nltk.download('punkt')\n",
    "from nltk.tokenize import word_tokenize"
   ]
  },
  {
   "cell_type": "code",
   "execution_count": 8,
   "metadata": {},
   "outputs": [
    {
     "name": "stdout",
     "output_type": "stream",
     "text": [
      "       0                                                  1\n",
      "0      2  !!! RT @mayasolovely: As a woman you shouldn't...\n",
      "1      1  !!!!! RT @mleew17: boy dats cold...tyga dwn ba...\n",
      "2      1  !!!!!!! RT @UrKindOfBrand Dawg!!!! RT @80sbaby...\n",
      "3      1  !!!!!!!!! RT @C_G_Anderson: @viva_based she lo...\n",
      "4      1  !!!!!!!!!!!!! RT @ShenikaRoberts: The shit you...\n",
      "...   ..                                                ...\n",
      "24778  1  you's a muthaf***in lie &#8220;@LifeAsKing: @2...\n",
      "24779  2  you've gone and broke the wrong heart baby, an...\n",
      "24780  1  young buck wanna eat!!.. dat nigguh like I ain...\n",
      "24781  1              youu got wild bitches tellin you lies\n",
      "24782  2  ~~Ruffled | Ntac Eileen Dahlia - Beautiful col...\n",
      "\n",
      "[24783 rows x 2 columns]\n"
     ]
    }
   ],
   "source": [
    "#Import hate-speech annotated database\n",
    "df = pd.read_csv('labeled_data.csv',header=None)\n",
    "print(df)"
   ]
  },
  {
   "cell_type": "code",
   "execution_count": 9,
   "metadata": {},
   "outputs": [],
   "source": [
    "#Clean Data and Classes\n",
    "\n",
    "newclass = []\n",
    "for i in df[0]:\n",
    "    if i == 0:\n",
    "        newclass.append(1)\n",
    "    else:\n",
    "        newclass.append(i)\n",
    "df[0] = newclass\n",
    "#There is now no \"hate speech\" class and text is deemed as either offensive or inoffensive\n",
    "\n",
    "\n"
   ]
  },
  {
   "cell_type": "code",
   "execution_count": null,
   "metadata": {},
   "outputs": [],
   "source": [
    "#Feature Engineering\n",
    "#Data Splitting into training, testing and validation\n",
    "#Train Model \n"
   ]
  },
  {
   "cell_type": "code",
   "execution_count": null,
   "metadata": {},
   "outputs": [],
   "source": [
    "#we changed the tweets into lower case. Also,\n",
    "#we removed all the URLs, usernames, white spaces, hashtags,\n",
    "#punctuations and stop-words using pattern matching\n",
    "#techniques from the collected tweets\n",
    "#We will use RE to pattern match to just return the tweets \n",
    "import re\n",
    "def clean_text(df, text_field):\n",
    "    df[text_field] = df[text_field].str.lower()\n",
    "    df[text_field] = df[text_field].apply(lambda elem: re.sub(r\"(@[A-Za-z0-9]+)|([^0-9A-Za-z \\t])|(\\w+:\\/\\/\\S+)|^rt|http.+?\", \"\", elem))\n",
    "    df[text_field] = df[text_field].apply(lambda elem: [word for word in word_tokenize(elem) if not word in stopwords.words()])\n",
    "    return df\n",
    "\n",
    "df = clean_text(df,1)\n",
    "\n"
   ]
  },
  {
   "cell_type": "code",
   "execution_count": null,
   "metadata": {},
   "outputs": [],
   "source": [
    "print(df)"
   ]
  }
 ],
 "metadata": {
  "kernelspec": {
   "display_name": "Python 3",
   "language": "python",
   "name": "python3"
  },
  "language_info": {
   "codemirror_mode": {
    "name": "ipython",
    "version": 3
   },
   "file_extension": ".py",
   "mimetype": "text/x-python",
   "name": "python",
   "nbconvert_exporter": "python",
   "pygments_lexer": "ipython3",
   "version": "3.8.3"
  }
 },
 "nbformat": 4,
 "nbformat_minor": 4
}
