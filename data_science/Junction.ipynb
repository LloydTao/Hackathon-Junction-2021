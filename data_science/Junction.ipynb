{
 "cells": [
  {
   "cell_type": "code",
   "execution_count": 1,
   "metadata": {
    "scrolled": true
   },
   "outputs": [],
   "source": [
    "import pandas as pd\n",
    "\n",
    "import sklearn"
   ]
  },
  {
   "cell_type": "markdown",
   "metadata": {},
   "source": [
    "## Data Collection"
   ]
  },
  {
   "cell_type": "code",
   "execution_count": 2,
   "metadata": {},
   "outputs": [
    {
     "name": "stdout",
     "output_type": "stream",
     "text": [
      "       0                                                  1\n",
      "0      2  !!! RT @mayasolovely: As a woman you shouldn't...\n",
      "1      1  !!!!! RT @mleew17: boy dats cold...tyga dwn ba...\n",
      "2      1  !!!!!!! RT @UrKindOfBrand Dawg!!!! RT @80sbaby...\n",
      "3      1  !!!!!!!!! RT @C_G_Anderson: @viva_based she lo...\n",
      "4      1  !!!!!!!!!!!!! RT @ShenikaRoberts: The shit you...\n",
      "...   ..                                                ...\n",
      "24778  1  you's a muthaf***in lie &#8220;@LifeAsKing: @2...\n",
      "24779  2  you've gone and broke the wrong heart baby, an...\n",
      "24780  1  young buck wanna eat!!.. dat nigguh like I ain...\n",
      "24781  1              youu got wild bitches tellin you lies\n",
      "24782  2  ~~Ruffled | Ntac Eileen Dahlia - Beautiful col...\n",
      "\n",
      "[24783 rows x 2 columns]\n"
     ]
    }
   ],
   "source": [
    "#Import hate-speech annotated database\n",
    "df = pd.read_csv('labeled_data.csv',header=None)\n",
    "print(df)"
   ]
  },
  {
   "cell_type": "markdown",
   "metadata": {},
   "source": [
    "## Data Cleaning"
   ]
  },
  {
   "cell_type": "code",
   "execution_count": 3,
   "metadata": {},
   "outputs": [],
   "source": [
    "#Clean Data and Classes\n",
    "\n",
    "newclass = []\n",
    "for i in df[0]:\n",
    "    if i == 0 or i == 1:\n",
    "        newclass.append(1)\n",
    "    if i == 2:\n",
    "        newclass.append(2)\n",
    "df[0] = newclass\n",
    "#There is now no \"hate speech\" class and text is deemed as either offensive or inoffensive\n",
    "\n",
    "\n"
   ]
  },
  {
   "cell_type": "code",
   "execution_count": 4,
   "metadata": {},
   "outputs": [],
   "source": [
    "#we changed the tweets into lower case. Also,\n",
    "#we removed all the URLs, usernames, white spaces, hashtags,\n",
    "#punctuations and stop-words using pattern matching\n",
    "#techniques from the collected tweets\n",
    "#We will use RE to pattern match to just return the tweets \n",
    "import re\n",
    "def clean_text(df, text_field):\n",
    "    df[text_field] = df[text_field].str.lower()\n",
    "    df[text_field] = df[text_field].apply(lambda elem:re.sub(r\"(@[A-Za-z0-9]+)|([^0-9A-Za-z \\t])|(\\w+:\\/\\/\\S+)|^rt|http.+?\", \"\", elem).strip())\n",
    "    #df[text_field] = df[text_field].apply(lambda elem: [word for word in word_tokenize(elem) if not word in stopwords.words()])\n",
    "    return df\n",
    "\n",
    "df = clean_text(df,1)\n",
    "\n"
   ]
  },
  {
   "cell_type": "code",
   "execution_count": null,
   "metadata": {},
   "outputs": [],
   "source": []
  },
  {
   "cell_type": "markdown",
   "metadata": {},
   "source": [
    "## Feature Extraction"
   ]
  },
  {
   "cell_type": "code",
   "execution_count": 5,
   "metadata": {},
   "outputs": [],
   "source": [
    "#Feature Extraction / Pipeline\n",
    "from sklearn.feature_extraction.text import TfidfVectorizer\n",
    "from sklearn.feature_extraction.text import TfidfTransformer\n",
    "from sklearn.pipeline import Pipeline\n",
    "from sklearn.svm import SVC\n",
    "\n",
    "pipeline_svc = Pipeline([\n",
    "    ('tfidfT',  TfidfTransformer()),\n",
    "    ('svc', SVC())])"
   ]
  },
  {
   "cell_type": "markdown",
   "metadata": {},
   "source": [
    "## Data Splitting, Testing and Validation"
   ]
  },
  {
   "cell_type": "code",
   "execution_count": 6,
   "metadata": {},
   "outputs": [
    {
     "data": {
      "text/plain": [
       "2    12585\n",
       "1     1547\n",
       "Name: 0, dtype: int64"
      ]
     },
     "execution_count": 6,
     "metadata": {},
     "output_type": "execute_result"
    }
   ],
   "source": [
    "import imblearn\n",
    "from imblearn.combine import SMOTEENN \n",
    "\n",
    "\n",
    "from sklearn.model_selection import train_test_split\n",
    "smt = SMOTEENN(random_state=42)\n",
    "X_train, X_test, y_train, y_test = train_test_split(df[1],df[0])\n",
    "vectorizer = TfidfVectorizer(stop_words='english',  ngram_range=(2, 2))\n",
    "vectorizer.fit(X_train.values.ravel())\n",
    "X_train=vectorizer.transform(X_train.values.ravel())\n",
    "X_test=vectorizer.transform(X_test.values.ravel())\n",
    "X_train=X_train.toarray()\n",
    "X_test=X_test.toarray()\n",
    "X_train, y_train = smt.fit_resample(X_train, y_train)\n",
    "y_train.value_counts()\n",
    "\n",
    "\n"
   ]
  },
  {
   "cell_type": "code",
   "execution_count": 10,
   "metadata": {},
   "outputs": [
    {
     "data": {
      "text/plain": [
       "0.18925110132158593"
      ]
     },
     "execution_count": 10,
     "metadata": {},
     "output_type": "execute_result"
    }
   ],
   "source": [
    "model = pipeline_svc.fit(list(X_train),list(y_train))\n",
    "y_predict = model.predict(list(X_test))\n",
    "from sklearn.metrics import f1_score\n",
    "f1_score(y_test, y_predict)"
   ]
  },
  {
   "cell_type": "code",
   "execution_count": 19,
   "metadata": {},
   "outputs": [
    {
     "name": "stdout",
     "output_type": "stream",
     "text": [
      "[2]\n"
     ]
    }
   ],
   "source": [
    "print(model.predict(vectorizer.transform([\"\"])))"
   ]
  }
 ],
 "metadata": {
  "kernelspec": {
   "display_name": "Python 3 (ipykernel)",
   "language": "python",
   "name": "python3"
  },
  "language_info": {
   "codemirror_mode": {
    "name": "ipython",
    "version": 3
   },
   "file_extension": ".py",
   "mimetype": "text/x-python",
   "name": "python",
   "nbconvert_exporter": "python",
   "pygments_lexer": "ipython3",
   "version": "3.10.0"
  }
 },
 "nbformat": 4,
 "nbformat_minor": 4
}
