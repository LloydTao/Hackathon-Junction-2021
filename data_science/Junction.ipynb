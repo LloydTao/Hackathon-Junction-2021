{
 "cells": [
  {
   "cell_type": "code",
   "execution_count": 1,
   "metadata": {
    "scrolled": true
   },
   "outputs": [],
   "source": [
    "import pandas as pd\n",
    "import nltk\n",
    "import numpy as np\n",
    "from nltk.tokenize import word_tokenize\n",
    "import sklearn\n",
    "import random\n",
    "from sklearn.feature_extraction.text import TfidfVectorizer\n",
    "from sklearn.feature_extraction.text import TfidfTransformer\n",
    "from sklearn.pipeline import Pipeline\n",
    "from sklearn.svm import SVC\n",
    "import imblearn\n",
    "from imblearn.combine import SMOTEENN \n",
    "from sklearn.model_selection import train_test_split, KFold, cross_val_score\n",
    "from sklearn.metrics import f1_score\n",
    "from numpy import mean\n",
    "from numpy import std\n",
    "import re"
   ]
  },
  {
   "cell_type": "markdown",
   "metadata": {},
   "source": [
    "## Data Collection"
   ]
  },
  {
   "cell_type": "code",
   "execution_count": 2,
   "metadata": {},
   "outputs": [],
   "source": [
    "#Import hate-speech annotated database\n",
    "def load_data(path):\n",
    "    df = pd.read_csv(path,header=None)\n",
    "    return df\n"
   ]
  },
  {
   "cell_type": "markdown",
   "metadata": {},
   "source": [
    "## Data Cleaning"
   ]
  },
  {
   "cell_type": "code",
   "execution_count": 3,
   "metadata": {},
   "outputs": [],
   "source": [
    "def clean_text(df, text_field):\n",
    "    newclass = []\n",
    "    for i in df[0]:\n",
    "        if i == 0 or i == 1:\n",
    "            newclass.append(1)\n",
    "        if i == 2:\n",
    "            newclass.append(2)\n",
    "    df[0] = newclass\n",
    "    df[text_field] = df[text_field].str.lower()\n",
    "    df[text_field] = df[text_field].apply(lambda elem:re.sub(r\"(@[A-Za-z0-9]+)|([^0-9A-Za-z \\t])|(\\w+:\\/\\/\\S+)|^rt|http.+?\", \"\", elem).strip())\n",
    "    df[text_field] = df[text_field].apply(lambda elem:re.sub(r\"^rt\", \"\", elem).strip())\n",
    "    df[text_field] = df[text_field].apply(lambda elem: ' '.join(elem.split()))\n",
    "    return df\n"
   ]
  },
  {
   "cell_type": "code",
   "execution_count": 4,
   "metadata": {},
   "outputs": [],
   "source": [
    "def random_undersampling(df, x,class_var):\n",
    "    array_list = list(range(0, len(df)))\n",
    "    random.shuffle(array_list)\n",
    "    count = 0\n",
    "    for i in array_list:\n",
    "        if df[0][i] == class_var:\n",
    "            df = df.drop(i)\n",
    "            count+=1\n",
    "        if count == x:\n",
    "            break\n",
    "    return df\n",
    "        "
   ]
  },
  {
   "cell_type": "markdown",
   "metadata": {},
   "source": [
    "## Data Splitting, Testing and Validation"
   ]
  },
  {
   "cell_type": "code",
   "execution_count": 5,
   "metadata": {},
   "outputs": [],
   "source": [
    "#cross validation\n",
    "def test_model(df):\n",
    "    pipeline = Pipeline(steps=[('tfidf', TfidfVectorizer()),\n",
    "                               ('model', SVC(C=10, \n",
    "                                             gamma=0.1, \n",
    "                                             kernel='sigmoid', \n",
    "                                             random_state=42))])\n",
    "    cv = KFold(n_splits=10, random_state=None)\n",
    "\n",
    "    acc_score = []\n",
    "    scores = cross_val_score(pipeline, df[1],df[0], scoring='accuracy', cv=cv, n_jobs=-1)\n",
    "    # report performance\n",
    "    print('Accuracy: %.3f (%.3f)' % (mean(scores), std(scores)))\n"
   ]
  },
  {
   "cell_type": "code",
   "execution_count": 6,
   "metadata": {},
   "outputs": [],
   "source": [
    "def run_model(df):\n",
    "    pipeline = Pipeline(steps=[('tfidf', TfidfVectorizer()),\n",
    "                               ('model', SVC(C=10, \n",
    "                                             gamma=0.1, \n",
    "                                             kernel='sigmoid', \n",
    "                                             random_state=42))])\n",
    "    X_train, X_test, y_train, y_test = train_test_split(df[1],df[0])\n",
    "    model = pipeline.fit(X_train, y_train)\n",
    "    y_predict = model.predict(X_test)\n",
    "    print(f1_score(y_test, y_predict))\n",
    "    return model\n"
   ]
  },
  {
   "cell_type": "code",
   "execution_count": 7,
   "metadata": {},
   "outputs": [],
   "source": [
    "def predict(model, string):\n",
    "    return model.predict([string])"
   ]
  },
  {
   "cell_type": "code",
   "execution_count": 8,
   "metadata": {},
   "outputs": [
    {
     "name": "stdout",
     "output_type": "stream",
     "text": [
      "1    10620\n",
      "2     4163\n",
      "Name: 0, dtype: int64\n",
      "0.9585305813292937\n"
     ]
    }
   ],
   "source": [
    "def main():\n",
    "    path = 'labeled_data.csv'\n",
    "    df = load_data(path)\n",
    "    clean_text(df,1)\n",
    "    df = random_undersampling(df, 10000,1)       \n",
    "    print(df[0].value_counts())\n",
    "    model = run_model(df)\n",
    "    return model\n",
    "    \n",
    "model = main()\n"
   ]
  },
  {
   "cell_type": "code",
   "execution_count": 11,
   "metadata": {},
   "outputs": [
    {
     "name": "stdout",
     "output_type": "stream",
     "text": [
      "[2]\n"
     ]
    }
   ],
   "source": [
    "print(predict(model, \"hello\"))"
   ]
  }
 ],
 "metadata": {
  "kernelspec": {
   "display_name": "Python 3 (ipykernel)",
   "language": "python",
   "name": "python3"
  },
  "language_info": {
   "codemirror_mode": {
    "name": "ipython",
    "version": 3
   },
   "file_extension": ".py",
   "mimetype": "text/x-python",
   "name": "python",
   "nbconvert_exporter": "python",
   "pygments_lexer": "ipython3",
   "version": "3.10.0"
  }
 },
 "nbformat": 4,
 "nbformat_minor": 4
}
