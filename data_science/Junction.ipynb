{
 "cells": [
  {
   "cell_type": "code",
   "execution_count": 58,
   "metadata": {
    "scrolled": true
   },
   "outputs": [],
   "source": [
    "import pandas as pd\n",
    "import nltk\n",
    "import numpy as np\n",
    "from nltk.tokenize import word_tokenize\n",
    "import sklearn\n",
    "import random\n",
    "from sklearn.feature_extraction.text import TfidfVectorizer\n",
    "from sklearn.feature_extraction.text import TfidfTransformer\n",
    "from sklearn.pipeline import Pipeline\n",
    "from sklearn.svm import SVC\n",
    "import imblearn\n",
    "from imblearn.combine import SMOTEENN \n",
    "from sklearn.model_selection import train_test_split, KFold\n",
    "from sklearn.metrics import f1_score\n",
    "from numpy import mean\n",
    "from numpy import std"
   ]
  },
  {
   "cell_type": "markdown",
   "metadata": {},
   "source": [
    "## Data Collection"
   ]
  },
  {
   "cell_type": "code",
   "execution_count": 26,
   "metadata": {},
   "outputs": [],
   "source": [
    "#Import hate-speech annotated database\n",
    "df = pd.read_csv('labeled_data.csv',header=None)\n",
    "\n",
    "#Import Boys and Girls Chatting Dataset - Non-offensive Words \n",
    "\n"
   ]
  },
  {
   "cell_type": "markdown",
   "metadata": {},
   "source": [
    "## Data Cleaning"
   ]
  },
  {
   "cell_type": "code",
   "execution_count": 27,
   "metadata": {},
   "outputs": [],
   "source": [
    "#Clean Data and Classes\n",
    "\n",
    "newclass = []\n",
    "for i in df[0]:\n",
    "    if i == 0 or i == 1:\n",
    "        newclass.append(1)\n",
    "    if i == 2:\n",
    "        newclass.append(2)\n",
    "df[0] = newclass\n",
    "#There is now no \"hate speech\" class and text is deemed as either offensive or inoffensive\n",
    "\n",
    "\n"
   ]
  },
  {
   "cell_type": "code",
   "execution_count": 28,
   "metadata": {},
   "outputs": [],
   "source": [
    "#we changed the tweets into lower case. Also,\n",
    "#we removed all the URLs, usernames, white spaces, hashtags,\n",
    "#punctuations and stop-words using pattern matching\n",
    "#techniques from the collected tweets\n",
    "#We will use RE to pattern match to just return the tweets \n",
    "import re\n",
    "def clean_text(df, text_field):\n",
    "    df[text_field] = df[text_field].str.lower()\n",
    "    df[text_field] = df[text_field].apply(lambda elem:re.sub(r\"(@[A-Za-z0-9]+)|([^0-9A-Za-z \\t])|(\\w+:\\/\\/\\S+)|^rt|http.+?\", \"\", elem).strip())\n",
    "    df[text_field] = df[text_field].apply(lambda elem: ' '.join(elem.split()))\n",
    "    return df\n",
    "for i in range(2):\n",
    "    df = clean_text(df,1)\n",
    "\n",
    "\n",
    "\n"
   ]
  },
  {
   "cell_type": "code",
   "execution_count": 30,
   "metadata": {},
   "outputs": [
    {
     "name": "stdout",
     "output_type": "stream",
     "text": [
      "1    20620\n",
      "2     4163\n",
      "Name: 0, dtype: int64\n",
      "1    10620\n",
      "2     4163\n",
      "Name: 0, dtype: int64\n"
     ]
    }
   ],
   "source": [
    "#Remove 10000 Values from df as it is imbalanced\n",
    "#Want to randomly cut out 10000 entries for undersampling\n",
    "print(df[0].value_counts())\n",
    "\n",
    "array_list = list(range(0, len(df)))\n",
    "random.shuffle(array_list)\n",
    "count = 0\n",
    "for i in array_list:\n",
    "    if df[0][i] == 1:\n",
    "        df = df.drop(i)\n",
    "        count+=1\n",
    "    if count == 10000:\n",
    "        break\n",
    "        \n",
    "print(df[0].value_counts())\n",
    "#Want to randomly add around 4000 entries "
   ]
  },
  {
   "cell_type": "markdown",
   "metadata": {},
   "source": [
    "## Feature Extraction"
   ]
  },
  {
   "cell_type": "code",
   "execution_count": 32,
   "metadata": {},
   "outputs": [],
   "source": [
    "#Feature Extraction / Pipeline\n",
    "pipeline_svc = Pipeline([\n",
    "    ('tfidfT',  TfidfTransformer()),\n",
    "    ('svc', SVC())])"
   ]
  },
  {
   "cell_type": "markdown",
   "metadata": {},
   "source": [
    "## Data Splitting, Testing and Validation"
   ]
  },
  {
   "cell_type": "code",
   "execution_count": 59,
   "metadata": {},
   "outputs": [
    {
     "name": "stdout",
     "output_type": "stream",
     "text": [
      "Accuracy: 0.942 (0.012)\n"
     ]
    }
   ],
   "source": [
    "#cross validation\n",
    "from sklearn.model_selection import KFold\n",
    "from sklearn.model_selection import cross_val_score\n",
    "\n",
    "pipeline = Pipeline(steps=[('tfidf', TfidfVectorizer()),\n",
    "                           ('model', SVC(C=10, \n",
    "                                         gamma=0.1, \n",
    "                                         kernel='sigmoid', \n",
    "                                         random_state=42))])\n",
    "cv = KFold(n_splits=10, random_state=None)\n",
    "\n",
    "acc_score = []\n",
    "scores = cross_val_score(pipeline, df[1],df[0], scoring='accuracy', cv=cv, n_jobs=-1)\n",
    "# report performance\n",
    "print('Accuracy: %.3f (%.3f)' % (mean(scores), std(scores)))\n"
   ]
  },
  {
   "cell_type": "code",
   "execution_count": 60,
   "metadata": {},
   "outputs": [
    {
     "data": {
      "text/plain": [
       "0.961808854265628"
      ]
     },
     "execution_count": 60,
     "metadata": {},
     "output_type": "execute_result"
    }
   ],
   "source": [
    "X_train, X_test, y_train, y_test = train_test_split(df[1],df[0])\n",
    "model = pipeline.fit(X_train, y_train)\n",
    "y_predict = model.predict(X_test)\n",
    "f1_score(y_test, y_predict)"
   ]
  },
  {
   "cell_type": "code",
   "execution_count": 78,
   "metadata": {},
   "outputs": [
    {
     "name": "stdout",
     "output_type": "stream",
     "text": [
      "[2]\n"
     ]
    }
   ],
   "source": [
    "print(model.predict([\"Hi There\"]))"
   ]
  },
  {
   "cell_type": "code",
   "execution_count": null,
   "metadata": {},
   "outputs": [],
   "source": []
  }
 ],
 "metadata": {
  "kernelspec": {
   "display_name": "Python 3",
   "language": "python",
   "name": "python3"
  },
  "language_info": {
   "codemirror_mode": {
    "name": "ipython",
    "version": 3
   },
   "file_extension": ".py",
   "mimetype": "text/x-python",
   "name": "python",
   "nbconvert_exporter": "python",
   "pygments_lexer": "ipython3",
   "version": "3.8.3"
  }
 },
 "nbformat": 4,
 "nbformat_minor": 4
}
